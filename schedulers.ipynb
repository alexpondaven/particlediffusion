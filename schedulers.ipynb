{
 "cells": [
  {
   "cell_type": "code",
   "execution_count": 2,
   "metadata": {},
   "outputs": [],
   "source": [
    "import os\n",
    "# os.environ[\"CUDA_VISIBLE_DEVICES\"]=\"5\"\n",
    "from diffusers import DiffusionPipeline\n",
    "import numpy as np\n",
    "import random\n",
    "import torch\n",
    "from diffusers import StableDiffusionPipeline\n",
    "import glob\n",
    "import matplotlib.pyplot as plt\n",
    "from typing import Optional, Tuple, Union\n",
    "\n",
    "from fid.fid_score import calculate_activation_statistics, save_statistics, load_statistics, calculate_frechet_distance, get_activations\n",
    "from fid.inception import InceptionV3\n",
    "\n",
    "from PIL import Image\n",
    "\n",
    "from utils.visualise import image_grid, latent_to_img, decode_latent, output_to_img\n",
    "\n",
    "from schedulers.euler_discrete import EulerDiscreteCustomScheduler"
   ]
  },
  {
   "cell_type": "code",
   "execution_count": null,
   "metadata": {},
   "outputs": [],
   "source": [
    "EulerDiscreteCustomScheduler"
   ]
  }
 ],
 "metadata": {
  "kernelspec": {
   "display_name": "score",
   "language": "python",
   "name": "score"
  },
  "language_info": {
   "codemirror_mode": {
    "name": "ipython",
    "version": 3
   },
   "file_extension": ".py",
   "mimetype": "text/x-python",
   "name": "python",
   "nbconvert_exporter": "python",
   "pygments_lexer": "ipython3",
   "version": "3.8.10"
  },
  "orig_nbformat": 4
 },
 "nbformat": 4,
 "nbformat_minor": 2
}
