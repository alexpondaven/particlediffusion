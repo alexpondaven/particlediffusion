{
 "cells": [
  {
   "cell_type": "code",
   "execution_count": 1,
   "metadata": {},
   "outputs": [
    {
     "name": "stderr",
     "output_type": "stream",
     "text": [
      "/data/ap2619/diffusion/score_sde_pytorch/.venv_score/lib/python3.8/site-packages/tqdm/auto.py:22: TqdmWarning: IProgress not found. Please update jupyter and ipywidgets. See https://ipywidgets.readthedocs.io/en/stable/user_install.html\n",
      "  from .autonotebook import tqdm as notebook_tqdm\n",
      "2023-04-24 18:20:29.878713: I tensorflow/stream_executor/platform/default/dso_loader.cc:49] Successfully opened dynamic library libcudart.so.11.0\n",
      "A matching Triton is not available, some optimizations will not be enabled.\n",
      "Error caught was: module 'triton.language' has no attribute 'constexpr'\n"
     ]
    }
   ],
   "source": [
    "import os\n",
    "os.environ[\"CUDA_VISIBLE_DEVICES\"]=\"4\"\n",
    "from diffusers import DiffusionPipeline\n",
    "import numpy as np\n",
    "import random\n",
    "import torch\n",
    "from diffusers import StableDiffusionPipeline\n",
    "import glob\n",
    "import matplotlib.pyplot as plt\n",
    "from typing import Optional, Tuple, Union\n",
    "\n",
    "from fid.fid_score import calculate_activation_statistics, save_statistics, load_statistics, calculate_frechet_distance, get_activations\n",
    "from fid.inception import InceptionV3\n",
    "\n",
    "from PIL import Image\n",
    "from tqdm.auto import tqdm\n",
    "from torch import autocast\n",
    "\n",
    "from utils.visualise import image_grid, latent_to_img, decode_latent, output_to_img\n",
    "from schedulers.euler_discrete import EulerDiscreteCustomScheduler, FrozenDict, randn_tensor\n",
    "from utils.score_utils import get_sigmas, get_score_input, scale_input, get_score, step_score, langevin_step, repulsive_term, denoise"
   ]
  },
  {
   "cell_type": "code",
   "execution_count": 2,
   "metadata": {},
   "outputs": [
    {
     "name": "stderr",
     "output_type": "stream",
     "text": [
      "Fetching 13 files: 100%|██████████| 13/13 [00:00<00:00, 9034.95it/s]\n"
     ]
    }
   ],
   "source": [
    "# Using 512x512 resolution\n",
    "model_id = \"stabilityai/stable-diffusion-2-base\"\n",
    "# model_id = \"CompVis/stable-diffusion-v1-4\"\n",
    "pipe = StableDiffusionPipeline.from_pretrained(model_id)#, torch_dtype=torch.float16)\n",
    "device = \"cuda\"\n",
    "pipe = pipe.to(device)\n",
    "pipe.safety_checker = None"
   ]
  },
  {
   "cell_type": "code",
   "execution_count": 3,
   "metadata": {},
   "outputs": [],
   "source": [
    "# Settings\n",
    "prompt = [\"a black cat\"]\n",
    "config = {\n",
    "    \"pipe\": pipe,\n",
    "    \"height\": 512,\n",
    "    \"width\": 512,\n",
    "    \"num_inference_steps\": 20,\n",
    "    \"num_train_timesteps\": 1000,\n",
    "    \"batch_size\": 1,\n",
    "    \"cfg\": 20,\n",
    "    \"beta_start\": 0.00085,\n",
    "    \"beta_end\": 0.012,\n",
    "}\n",
    "\n",
    "# Seeds\n",
    "seed=1024\n",
    "generator = torch.Generator(\"cuda\").manual_seed(seed)\n",
    "torch.manual_seed(seed)\n",
    "np.random.seed(0)\n",
    "random.seed(0)\n",
    "\n",
    "# Noise levels\n",
    "sigmas, timesteps = get_sigmas(config, device=device)\n",
    "init_latents, text_embeddings = get_score_input(prompt, config, generator=generator, device=\"cuda\")\n",
    "config = {**config,\n",
    "          \"sigmas\": sigmas,\n",
    "          \"timesteps\": timesteps,\n",
    "          \"init_latents\": init_latents,\n",
    "          \"text_embeddings\": text_embeddings\n",
    "          }"
   ]
  },
  {
   "cell_type": "code",
   "execution_count": 4,
   "metadata": {},
   "outputs": [
    {
     "name": "stderr",
     "output_type": "stream",
     "text": [
      "100%|██████████| 20/20 [00:05<00:00,  3.47it/s]\n"
     ]
    },
    {
     "ename": "UnboundLocalError",
     "evalue": "local variable 'score_norm_hist' referenced before assignment",
     "output_type": "error",
     "traceback": [
      "\u001b[0;31m---------------------------------------------------------------------------\u001b[0m",
      "\u001b[0;31mUnboundLocalError\u001b[0m                         Traceback (most recent call last)",
      "Cell \u001b[0;32mIn[4], line 1\u001b[0m\n\u001b[0;32m----> 1\u001b[0m latent_list, score_norm_hist \u001b[39m=\u001b[39m denoise([\u001b[39m2\u001b[39;49m], config, return_all_samples\u001b[39m=\u001b[39;49m\u001b[39mFalse\u001b[39;49;00m)\n",
      "File \u001b[0;32m/data/ap2619/diffusion/diversity/utils/score_utils.py:187\u001b[0m, in \u001b[0;36mdenoise\u001b[0;34m(score_move, config, return_all_samples, save_score_norms, device)\u001b[0m\n\u001b[1;32m    184\u001b[0m \u001b[39mif\u001b[39;00m return_all_samples:\n\u001b[1;32m    185\u001b[0m     \u001b[39mreturn\u001b[39;00m latent_list, score_norm_hist\n\u001b[0;32m--> 187\u001b[0m \u001b[39mreturn\u001b[39;00m latents, score_norm_hist\n",
      "\u001b[0;31mUnboundLocalError\u001b[0m: local variable 'score_norm_hist' referenced before assignment"
     ]
    }
   ],
   "source": [
    "latent_list, score_norm_hist = denoise([2], config, return_all_samples=False)\n"
   ]
  }
 ],
 "metadata": {
  "kernelspec": {
   "display_name": "score",
   "language": "python",
   "name": "score"
  },
  "language_info": {
   "codemirror_mode": {
    "name": "ipython",
    "version": 3
   },
   "file_extension": ".py",
   "mimetype": "text/x-python",
   "name": "python",
   "nbconvert_exporter": "python",
   "pygments_lexer": "ipython3",
   "version": "3.8.10"
  },
  "orig_nbformat": 4
 },
 "nbformat": 4,
 "nbformat_minor": 2
}
